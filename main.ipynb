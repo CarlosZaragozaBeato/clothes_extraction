{
 "cells": [
  {
   "cell_type": "code",
   "execution_count": null,
   "metadata": {},
   "outputs": [],
   "source": [
    "%pip install selenium"
   ]
  },
  {
   "cell_type": "code",
   "execution_count": null,
   "metadata": {},
   "outputs": [],
   "source": [
    "from selenium import webdriver\n",
    "from selenium.webdriver.common.by import By\n",
    "from selenium.webdriver.common.keys import Keys\n",
    "\n",
    "# Configura el controlador del navegador (por ejemplo, Chrome)\n",
    "driver = webdriver.Chrome()\n",
    "\n",
    "# Abre una página web\n",
    "driver.get(\"https://example.com\")\n",
    "\n",
    "# Interactúa con elementos (por ejemplo, busca un término)\n",
    "search_box = driver.find_element(By.NAME, \"q\")  # Encuentra el campo de búsqueda\n",
    "search_box.send_keys(\"web scraping\")\n",
    "search_box.send_keys(Keys.RETURN)\n",
    "\n",
    "# Extrae información\n",
    "results = driver.find_elements(By.CSS_SELECTOR, \"h3\")\n",
    "for result in results:\n",
    "    print(result.text)\n",
    "\n",
    "# Cierra el navegador\n",
    "driver.quit()"
   ]
  },
  {
   "cell_type": "code",
   "execution_count": null,
   "metadata": {},
   "outputs": [],
   "source": [
    "%pip install playwright"
   ]
  },
  {
   "cell_type": "code",
   "execution_count": null,
   "metadata": {},
   "outputs": [],
   "source": [
    "from playwright.sync_api import sync_playwright\n",
    "\n",
    "with sync_playwright() as p:\n",
    "    # Lanza el navegador\n",
    "    browser = p.chromium.launch(headless=False)  # Cambia a True para modo headless\n",
    "    page = browser.new_page()\n",
    "\n",
    "    # Navega a la página\n",
    "    page.goto(\"https://example.com\")\n",
    "\n",
    "    # Interactúa con elementos\n",
    "    page.fill('input[name=\"q\"]', \"web scraping\")  # Encuentra el campo de búsqueda\n",
    "    page.press('input[name=\"q\"]', \"Enter\")\n",
    "\n",
    "    # Extrae información\n",
    "    results = page.query_selector_all(\"h3\")\n",
    "    for result in results:\n",
    "        print(result.inner_text())\n",
    "\n",
    "    # Cierra el navegador\n",
    "    browser.close()\n"
   ]
  },
  {
   "cell_type": "code",
   "execution_count": null,
   "metadata": {
    "vscode": {
     "languageId": "javascript"
    }
   },
   "outputs": [],
   "source": [
    "const puppeteer = require('puppeteer');\n",
    "\n",
    "(async () => {\n",
    "  // Lanza el navegador\n",
    "  const browser = await puppeteer.launch({ headless: false });\n",
    "  const page = await browser.newPage();\n",
    "\n",
    "  // Navega a la página\n",
    "  await page.goto('https://example.com');\n",
    "\n",
    "  // Interactúa con elementos\n",
    "  await page.type('input[name=\"q\"]', 'web scraping');\n",
    "  await page.keyboard.press('Enter');\n",
    "\n",
    "  // Espera a que carguen los resultados\n",
    "  await page.waitForSelector('h3');\n",
    "\n",
    "  // Extrae información\n",
    "  const results = await page.$$eval('h3', headings => headings.map(h => h.textContent));\n",
    "  console.log(results);\n",
    "\n",
    "  // Cierra el navegador\n",
    "  await browser.close();\n",
    "})();"
   ]
  }
 ],
 "metadata": {
  "language_info": {
   "name": "python"
  }
 },
 "nbformat": 4,
 "nbformat_minor": 2
}
